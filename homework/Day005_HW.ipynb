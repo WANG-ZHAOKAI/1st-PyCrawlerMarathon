{
 "cells": [
  {
   "cell_type": "markdown",
   "metadata": {},
   "source": [
    "# API 資料串接 - 以 Dcard API 實作範例\n",
    "\n",
    "* 利用 urllib 套件的 urlretrieve 方法下載檔案\n",
    "* 了解 Python File I/O 讀檔、寫檔的用法\n",
    "* 能用運用資源管理器 With Statement 優化寫法"
   ]
  },
  {
   "cell_type": "markdown",
   "metadata": {},
   "source": [
    "## 作業目標\n",
    "\n",
    "* 請利用 API: https://www.dcard.tw/_api/forums/pet/posts?popular=true 回答下列問題：\n",
    "\n",
    "1. 這個 API 一次會回傳幾筆資料？每一筆資料包含哪些欄位？\n",
    "2. 取出每一筆資料的「標題」、「貼文時間」、「留言人數」、「按讚人數」\n",
    "3. 計算熱門/非熱門文章的「平均留言人數」與「平均按讚人數」"
   ]
  },
  {
   "cell_type": "code",
   "execution_count": 49,
   "metadata": {},
   "outputs": [
    {
     "name": "stdout",
     "output_type": "stream",
     "text": [
      "這個API一次回傳 30 筆資料\n",
      "每一筆資料包含  dict_keys(['id', 'title', 'excerpt', 'anonymousSchool', 'anonymousDepartment', 'pinned', 'forumId', 'replyId', 'createdAt', 'updatedAt', 'commentCount', 'likeCount', 'withNickname', 'tags', 'topics', 'meta', 'forumName', 'forumAlias', 'gender', 'school', 'department', 'replyTitle', 'mediaMeta', 'reactions', 'hidden', 'customStyle', 'isSuspiciousAccount', 'layout', 'withImages', 'withVideos', 'media', 'reportReasonText', 'postAvatar'])\n"
     ]
    }
   ],
   "source": [
    "# 1. 這個 API 一次會回傳幾筆資料？每一筆資料包含哪些欄位？\n",
    "\n",
    "import requsets\n"
    "import json\n"
    "r = requests.get(' https://www.dcard.tw/_api/forums/pet/posts?popular=true')\n",
    "response = r.text\n",
    "data = json.loads(response)\n",
    "print('這個API一次回傳',len(data),'筆資料')\n",
    "print (\"每一筆資料包含 \", data[0].keys())"
   ]
  },
  {
   "cell_type": "code",
   "execution_count": 50,
   "metadata": {},
   "outputs": [
    {
     "name": "stdout",
     "output_type": "stream",
     "text": [
      "標題:  #更。不要被薩摩耶給騙了！\n",
      "貼文時間:  2019-11-29T00:25:38.826Z\n",
      "留言人數:  167\n",
      "按讚人數:  10262\n",
      "標題:  #貓 #圖 我懷疑我家貓咪根本不覺得自己是貓咪\n",
      "貼文時間:  2019-11-29T15:01:23.745Z\n",
      "留言人數:  18\n",
      "按讚人數:  646\n",
      "標題:  🐰誰說兔子不能碰水！兔子❤️海灘\n",
      "貼文時間:  2019-11-29T07:34:46.328Z\n",
      "留言人數:  41\n",
      "按讚人數:  625\n",
      "標題:  找回失蹤狗狗😭 原來妳也在找我們\n",
      "貼文時間:  2019-11-29T22:33:34.440Z\n",
      "留言人數:  20\n",
      "按讚人數:  551\n",
      "標題:  高以翔的療癒系狗狗theo\n",
      "貼文時間:  2019-11-29T13:52:33.150Z\n",
      "留言人數:  3\n",
      "按讚人數:  467\n",
      "標題:  吸貓治百病\n",
      "貼文時間:  2019-11-29T06:53:05.300Z\n",
      "留言人數:  7\n",
      "按讚人數:  214\n",
      "標題:  就是你！！！我的菜！！！\n",
      "貼文時間:  2019-11-29T03:10:51.060Z\n",
      "留言人數:  0\n",
      "按讚人數:  70\n",
      "標題:  有愛的假兄弟\n",
      "貼文時間:  2019-11-29T04:09:24.480Z\n",
      "留言人數:  0\n",
      "按讚人數:  46\n",
      "標題:  我家柴犬一系列照片\n",
      "貼文時間:  2019-11-29T05:02:04.820Z\n",
      "留言人數:  4\n",
      "按讚人數:  41\n",
      "標題:  囤貓囤起來😻/圖多文長\n",
      "貼文時間:  2019-11-29T03:41:19.070Z\n",
      "留言人數:  4\n",
      "按讚人數:  31\n",
      "標題:  有人要吸兔嗎？\n",
      "貼文時間:  2019-11-30T04:58:10.195Z\n",
      "留言人數:  11\n",
      "按讚人數:  26\n",
      "標題:  有貓快拜！！\n",
      "貼文時間:  2019-11-30T03:07:22.599Z\n",
      "留言人數:  1\n",
      "按讚人數:  26\n",
      "標題:  被擠床原來是一件幸福的事\n",
      "貼文時間:  2019-11-30T04:15:42.699Z\n",
      "留言人數:  3\n",
      "按讚人數:  21\n",
      "標題:  免費寵物溝通\n",
      "貼文時間:  2019-11-29T11:58:23.732Z\n",
      "留言人數:  17\n",
      "按讚人數:  21\n",
      "標題:  限動裡的小三線們\n",
      "貼文時間:  2019-11-29T04:00:40.448Z\n",
      "留言人數:  5\n",
      "按讚人數:  20\n",
      "標題:  虎斑狗想找寵物溝通師\n",
      "貼文時間:  2019-11-29T15:22:07.842Z\n",
      "留言人數:  2\n",
      "按讚人數:  15\n",
      "標題:  求助！剛接回家的小貓生病了嗎\n",
      "貼文時間:  2019-11-29T13:35:26.621Z\n",
      "留言人數:  3\n",
      "按讚人數:  15\n",
      "標題:  貓男友的拍照技術\n",
      "貼文時間:  2019-11-29T13:28:45.211Z\n",
      "留言人數:  2\n",
      "按讚人數:  14\n",
      "標題:  威~柯基你母湯喔\n",
      "貼文時間:  2019-11-29T09:44:50.199Z\n",
      "留言人數:  0\n",
      "按讚人數:  14\n",
      "標題:  限動滿滿的老鼠是怎樣\n",
      "貼文時間:  2019-11-29T09:05:18.406Z\n",
      "留言人數:  19\n",
      "按讚人數:  14\n",
      "標題:  圖 厭世貓化石梗圖\n",
      "貼文時間:  2019-11-29T13:38:15.413Z\n",
      "留言人數:  1\n",
      "按讚人數:  11\n",
      "標題:  我家的貓每天睡覺前一定會做的事\n",
      "貼文時間:  2019-11-30T06:52:29.882Z\n",
      "留言人數:  2\n",
      "按讚人數:  10\n",
      "標題:  #柴 #影片 到底有多討厭洗澡\n",
      "貼文時間:  2019-11-30T03:24:55.897Z\n",
      "留言人數:  0\n",
      "按讚人數:  10\n",
      "標題:  貓咪走失了😭😭台中，水湳\n",
      "貼文時間:  2019-11-29T12:46:13.912Z\n",
      "留言人數:  0\n",
      "按讚人數:  10\n",
      "標題:  自己的主子最可愛\n",
      "貼文時間:  2019-11-29T05:09:30.489Z\n",
      "留言人數:  1\n",
      "按讚人數:  10\n",
      "標題:  6個月小布偶貓 放臭屁\n",
      "貼文時間:  2019-11-29T15:56:00.789Z\n",
      "留言人數:  6\n",
      "按讚人數:  9\n",
      "標題:  鳥\n",
      "貼文時間:  2019-11-29T09:55:59.346Z\n",
      "留言人數:  11\n",
      "按讚人數:  9\n",
      "標題:  貓咪尾巴狂抖是正常的嗎\n",
      "貼文時間:  2019-11-29T14:12:31.389Z\n",
      "留言人數:  9\n",
      "按讚人數:  8\n",
      "標題:  就只知道睡\n",
      "貼文時間:  2019-11-29T12:25:50.680Z\n",
      "留言人數:  2\n",
      "按讚人數:  8\n",
      "標題:  從可愛的小寶寶變成破壞王\n",
      "貼文時間:  2019-11-29T06:52:19.590Z\n",
      "留言人數:  4\n",
      "按讚人數:  8\n"
     ]
    }
   ],
   "source": [
    "# 2. 取出每一筆資料的「標題」、「貼文時間」、「留言人數」、「按讚人數」\n",
    "for d in data:\n",
    "    print('標題: ',d['title'])\n",
    "    print('貼文時間: ',d['createdAt'])\n",
    "    print('留言人數: ',d['commentCount'])\n",
    "    print('按讚人數: ',d['likeCount'])"
   ]
  },
  {
   "cell_type": "code",
   "execution_count": 48,
   "metadata": {},
   "outputs": [
    {
     "name": "stdout",
     "output_type": "stream",
     "text": [
      "熱門文章平均留言人數:  11.433333333333334 平均按讚人數:  416.06666666666666\n",
      "非熱門文章平均留言人數:  2.433333333333333 平均按讚人數:  24.9\n"
     ]
    }
   ],
   "source": [
    "# 3. 計算熱門/非熱門文章的「平均留言人數」與「平均按讚人數」\n",
    "r2 = requests.get('https://www.dcard.tw/_api/forums/pet/posts?popular=false')\n",
    "response2 = r2.text\n",
    "data2 = json.loads(response2)\n",
    "#data1\n",
    "comment_sum = 0\n",
    "like_sum = 0\n",
    "comment_num = 0\n",
    "like_num = 0\n",
    "for d in data:\n",
    "    comment_sum = comment_sum + d['commentCount']\n",
    "    like_sum    = like_sum + d['likeCount']\n",
    "    comment_num = comment_num+1\n",
    "    like_num = like_num+1\n",
    "    \n",
    "comment_avg = comment_sum/comment_num\n",
    "like_avg = like_sum/like_num\n",
    "print('熱門文章平均留言人數: ',comment_avg,'平均按讚人數: ',like_avg)\n",
    "\n",
    "#data2\n",
    "comment_sum = 0\n",
    "like_sum = 0\n",
    "comment_num = 0\n",
    "like_num = 0\n",
    "for d in data2:\n",
    "    comment_sum = comment_sum + d['commentCount']\n",
    "    like_sum    = like_sum + d['likeCount']\n",
    "    comment_num = comment_num+1\n",
    "    like_num = like_num+1\n",
    "    \n",
    "comment_avg = comment_sum/comment_num\n",
    "like_avg = like_sum/like_num\n",
    "print('非熱門文章平均留言人數: ',comment_avg,'平均按讚人數: ',like_avg)"
   ]
  }
 ],
 "metadata": {
  "kernelspec": {
   "display_name": "Python 3",
   "language": "python",
   "name": "python3"
  },
  "language_info": {
   "codemirror_mode": {
    "name": "ipython",
    "version": 3
   },
   "file_extension": ".py",
   "mimetype": "text/x-python",
   "name": "python",
   "nbconvert_exporter": "python",
   "pygments_lexer": "ipython3",
   "version": "3.7.1"
  }
 },
 "nbformat": 4,
 "nbformat_minor": 2
}
